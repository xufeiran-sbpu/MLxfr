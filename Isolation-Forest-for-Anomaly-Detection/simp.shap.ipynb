{
 "cells": [
  {
   "cell_type": "code",
   "execution_count": 23,
   "metadata": {},
   "outputs": [
    {
     "name": "stdout",
     "output_type": "stream",
     "text": [
      "[[0, 1, 2, 3, 4], [0, 1, 3, 2, 4], [0, 4, 1, 2, 3]]\n",
      "k 0\n",
      "k 0\n",
      "k 0\n",
      "k 0\n",
      "k 0\n",
      "k 0\n",
      "k 0\n",
      "k 0\n",
      "k 0\n",
      "k 0\n",
      "k 0\n",
      "k 0\n",
      "k 0\n",
      "k 0\n",
      "k 0\n",
      "sha [0.0, 0.0, 0.0, 0.0, 0.0]\n"
     ]
    }
   ],
   "source": [
    "import math\n",
    "import random\n",
    "import numpy as np\n",
    "\n",
    "\n",
    "def ApproShap(ListOfSampling,characteristicF,playerList,counter):\n",
    "    sha=[0 for i in range(len(playerList))]\n",
    "    for ob in ListOfSampling:\n",
    "        k=0\n",
    "        for i in ob:# ob is sequence of player id from 0 to N\n",
    "            pre_i_ob=calculatePre_i(ob,i)#calculate pre^i(ob)\n",
    "            print(\"k\",k)\n",
    "            x_ob=calculateX(pre_i_ob,i,characteristicF[k])\n",
    "            sha[i]=sha[i]+x_ob\n",
    "        k=k+1\n",
    "\n",
    "    sha=[x/np.shape(ListOfSampling)[0] for x in sha]\n",
    "    return sha\n",
    "\n",
    "def randomChose(probability,listPlayer):\n",
    "    np.random.seed(0)\n",
    "    p = np.array()\n",
    "    for k in list:\n",
    "        np.append(p,probability,axis=0)\n",
    "    index = np.random.choice(listPlayer, p=p.ravel())\n",
    "    return listPlayer[index]\n",
    "\n",
    "def permutation(list,count): #probability: 1/n!, count: sampling size\n",
    "    sampling=[]\n",
    "    for k in range(0,count):\n",
    "        templist = list.copy()\n",
    "        random.shuffle(list)\n",
    "        sampling.append(templist)\n",
    "    return sampling\n",
    "\n",
    "\n",
    "\n",
    "def calculatePre_i(ob,i):\n",
    "    result=[]\n",
    "    for k in range(0,len(ob)):\n",
    "        if ob[k]!=i:\n",
    "            result.append(ob[k])\n",
    "        else :\n",
    "            break\n",
    "\n",
    "    return result\n",
    "\n",
    "def calculateX(ob,i,characteristicF):\n",
    "    new_ob=ob.copy()\n",
    "    new_ob.append(i)\n",
    "   # print(\"new_ob,\",new_ob)\n",
    "   # print(\"ob\",ob)\n",
    "    result = characteristicFunction(new_ob,characteristicF)-characteristicFunction(ob,characteristicF)\n",
    "    return result\n",
    "\n",
    "def characteristicFunction(ob,characteristicF):\n",
    "    result=0\n",
    "    #print(\"ob\",ob)\n",
    "    if ob==None:\n",
    "        return result\n",
    "    else:\n",
    "        result=characteristicF[len(ob)-1]\n",
    "    return result\n",
    "\n",
    "\n",
    "\n",
    "\n",
    "\n",
    "if __name__ == '__main__':\n",
    "    playerList=[0,1,2,3,4]\n",
    "    counter=3#sampling size\n",
    "    characteristicF =[np.zeros(len(playerList))]*counter#initial table for characteristic function of coalition in permutation\n",
    "    samplist=[]\n",
    "    ob=playerList\n",
    "    listOfSampling=permutation(ob,counter)\n",
    "\n",
    "    print(listOfSampling)\n",
    "    sha=ApproShap(listOfSampling,characteristicF,playerList,counter)\n",
    "    print(\"sha\",sha)"
   ]
  },
  {
   "cell_type": "code",
   "execution_count": 22,
   "metadata": {},
   "outputs": [
    {
     "data": {
      "text/plain": [
       "[array([0., 0., 0., 0., 0.]),\n",
       " array([0., 0., 0., 0., 0.]),\n",
       " array([0., 0., 0., 0., 0.])]"
      ]
     },
     "execution_count": 22,
     "metadata": {},
     "output_type": "execute_result"
    }
   ],
   "source": [
    "characteristicF"
   ]
  },
  {
   "cell_type": "code",
   "execution_count": 24,
   "metadata": {},
   "outputs": [
    {
     "data": {
      "text/plain": [
       "3"
      ]
     },
     "execution_count": 24,
     "metadata": {},
     "output_type": "execute_result"
    }
   ],
   "source": [
    "len(listOfSampling)"
   ]
  },
  {
   "cell_type": "code",
   "execution_count": 19,
   "metadata": {},
   "outputs": [
    {
     "data": {
      "text/plain": [
       "range"
      ]
     },
     "execution_count": 19,
     "metadata": {},
     "output_type": "execute_result"
    }
   ],
   "source": [
    "type(l)"
   ]
  },
  {
   "cell_type": "code",
   "execution_count": null,
   "metadata": {},
   "outputs": [],
   "source": []
  }
 ],
 "metadata": {
  "kernelspec": {
   "display_name": "Python 3",
   "language": "python",
   "name": "python3"
  },
  "language_info": {
   "codemirror_mode": {
    "name": "ipython",
    "version": 3
   },
   "file_extension": ".py",
   "mimetype": "text/x-python",
   "name": "python",
   "nbconvert_exporter": "python",
   "pygments_lexer": "ipython3",
   "version": "3.8.3"
  }
 },
 "nbformat": 4,
 "nbformat_minor": 4
}
